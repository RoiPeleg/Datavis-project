{
 "cells": [
  {
   "cell_type": "code",
   "execution_count": 1,
   "metadata": {},
   "outputs": [],
   "source": [
    "import pandas as pd\n",
    "from sklearn.decomposition import PCA\n",
    "from sklearn.preprocessing import StandardScaler\n",
    "import seaborn as sns\n",
    "import matplotlib.pyplot as plt\n",
    "from mpl_toolkits.mplot3d import Axes3D\n",
    "import warnings\n",
    "import numpy as np\n",
    "from sklearn.metrics import f1_score\n",
    "from sklearn import metrics\n",
    "from sklearn.metrics import classification_report\n",
    "from sklearn.ensemble import RandomForestClassifier\n",
    "from sklearn.neighbors import KNeighborsClassifier\n",
    "warnings.filterwarnings(\"ignore\")\n",
    "%matplotlib inline"
   ]
  },
  {
   "cell_type": "markdown",
   "metadata": {},
   "source": [
    "# Loading Data"
   ]
  },
  {
   "cell_type": "code",
   "execution_count": 2,
   "metadata": {},
   "outputs": [],
   "source": [
    "right_hand = pd.read_csv(\"/home/ubuntu/Desktop/project/HandRight.csv\")\n",
    "def addAlone(p):\n",
    "    r = right_hand \n",
    "    r = r.iloc[:len(p)-1]\n",
    "    r = r.reset_index(drop=True)\n",
    "    r.drop('Time', inplace=True,axis=1)\n",
    "    p.set_index(' Frame ID',inplace=True)\n",
    "    p = p.reset_index(drop=True)\n",
    "    f = pd.concat([p,r],axis=1)\n",
    "    f = f.drop([' Hand Type',' # hands',' Frame ID'],axis=1)\n",
    "    return f\n",
    "def addOther(p):\n",
    "    r = p[p[' Hand Type']=='right']\n",
    "    r.drop('Time', inplace=True,axis=1)\n",
    "    l = p[p[' Hand Type']=='left']\n",
    "    r.set_index(' Frame ID',inplace=True)\n",
    "    l.set_index(' Frame ID',inplace=True)\n",
    "    f = pd.DataFrame(pd.merge(l,r, how='left',on=' Frame ID'))\n",
    "    f = f.drop([' Hand Type_x',' # hands_y' ,' Hand Type_y' ,' # hands_x'],axis=1)\n",
    "    return f\n",
    "def addDf(p,name,exp):\n",
    "    p = p.iloc[701:]\n",
    "    if 'Alone' not in exp:\n",
    "        f = addOther(p)\n",
    "    else:\n",
    "        f = addAlone(p) \n",
    "    f.columns = ['Time', ' Position X', ' Position Y', ' Position Z', ' Velocity X', ' Velocity Y',\n",
    "       ' Velocity Z', ' Pitch', ' Roll', ' Yaw', ' Wrist Pos X',\n",
    "       ' Wrist Pos Y', ' Wrist Pos Z', ' Elbow pos X', ' Elbow Pos Y',\n",
    "       ' Elbow Pos Z', ' Grab Strenth', ' Grab Angle', ' Pinch Strength', ' Position X r',\n",
    "       ' Position Y r', ' Position Z r', ' Velocity X r', ' Velocity Y r',\n",
    "       ' Velocity Z r', ' Pitch r', ' Roll r', ' Yaw r', ' Wrist Pos X r',\n",
    "       ' Wrist Pos Y r', ' Wrist Pos Z r', ' Elbow pos X r', ' Elbow Pos Y r',\n",
    "       ' Elbow Pos Z r', ' Grab Strenth r', ' Grab Angle r', ' Pinch Strength r']\n",
    "    f.insert(loc=0, column='Name', value=name)\n",
    "    f.insert(loc=1, column='Type', value=exp)\n",
    "    return f"
   ]
  },
  {
   "cell_type": "code",
   "execution_count": 3,
   "metadata": {},
   "outputs": [],
   "source": [
    "def loadData(pathW):\n",
    "    df = pd.DataFrame(columns=[\n",
    "        'Name',\n",
    "        'Type',\n",
    "        'Time',\n",
    "        ' Position X',\n",
    "        ' Position Y',\n",
    "        ' Position Z',\n",
    "        ' Velocity X',\n",
    "        ' Velocity Y',\n",
    "        ' Velocity Z',\n",
    "        ' Pitch',\n",
    "        ' Roll',\n",
    "        ' Yaw',\n",
    "        ' Wrist Pos X',\n",
    "        ' Wrist Pos Y',\n",
    "        ' Wrist Pos Z',\n",
    "        ' Elbow pos X',\n",
    "        ' Elbow Pos Y',\n",
    "        ' Elbow Pos Z',\n",
    "        ' Grab Strenth',\n",
    "        ' Grab Angle',\n",
    "        ' Pinch Strength',\n",
    "        ' Position X r',\n",
    "        ' Position Y r',\n",
    "        ' Position Z r',\n",
    "        ' Velocity X r',\n",
    "        ' Velocity Y r',\n",
    "        ' Velocity Z r',\n",
    "        ' Pitch r',\n",
    "        ' Roll r',\n",
    "        ' Yaw r',\n",
    "        ' Wrist Pos X r',\n",
    "        ' Wrist Pos Y r',\n",
    "        ' Wrist Pos Z r',\n",
    "        ' Elbow pos X r',\n",
    "        ' Elbow Pos Y r',\n",
    "        ' Elbow Pos Z r',\n",
    "        ' Grab Strenth r',\n",
    "        ' Grab Angle r',\n",
    "        ' Pinch Strength r',\n",
    "        ])\n",
    "    path = pathW\n",
    "    import os\n",
    "    for folder in os.listdir(path):\n",
    "        c_A = 0\n",
    "        c_Sp = 0\n",
    "        c_Sy = 0\n",
    "        for fu in os.listdir(path + folder):\n",
    "            if 'Alone' in fu:\n",
    "                c_A += 1\n",
    "            elif 'Sync' in fu:\n",
    "                c_Sy += 1\n",
    "            else:\n",
    "                c_Sp += 1\n",
    "        for fu in os.listdir(path + folder):\n",
    "            if 'Alone' in fu and c_A != 1:\n",
    "                c_A -= 1\n",
    "                continue\n",
    "            elif 'Sync' in fu and c_Sy != 1:\n",
    "                c_Sy -= 1\n",
    "                continue\n",
    "            elif 'Spontan' in fu and c_Sp != 1:\n",
    "                c_Sp -= 1\n",
    "                continue\n",
    "            x = pd.read_csv(path + folder + '/' + fu)\n",
    "            df = pd.concat([df, addDf(x, ''.join(filter(str.isalpha,\n",
    "                           fu[:8])), ''.join(filter(str.isalpha,\n",
    "                           fu[8:len(fu) - 3])))], sort=False)\n",
    "    return df"
   ]
  },
  {
   "cell_type": "code",
   "execution_count": 4,
   "metadata": {},
   "outputs": [],
   "source": [
    "train = loadData(\"/home/ubuntu/Desktop/project/Training/\")\n",
    "test = loadData(\"/home/ubuntu/Desktop/project/Validation/\")"
   ]
  },
  {
   "cell_type": "code",
   "execution_count": 5,
   "metadata": {},
   "outputs": [],
   "source": [
    "train.dropna(inplace=True)\n",
    "test.dropna(inplace=True)\n",
    "train = train[train.index %20 == 0]\n",
    "test = test[test.index %20 == 0]\n",
    "train.reset_index(inplace=True,drop=True)\n",
    "test.reset_index(inplace=True,drop=True)\n",
    "x_train = train.copy().drop(['Name','Type','Time'], axis = 1)\n",
    "y_train = train['Type']\n",
    "x_test = test.copy().drop(['Name','Type','Time'], axis = 1)\n",
    "y_test = test['Type']"
   ]
  },
  {
   "cell_type": "code",
   "execution_count": 6,
   "metadata": {},
   "outputs": [
    {
     "data": {
      "text/plain": [
       "<matplotlib.axes._subplots.AxesSubplot at 0x7f06f19ff898>"
      ]
     },
     "execution_count": 6,
     "metadata": {},
     "output_type": "execute_result"
    },
    {
     "data": {
      "image/png": "[encoded data removed]",
      "text/plain": [
       "<Figure size 432x288 with 1 Axes>"
      ]
     },
     "metadata": {
      "needs_background": "light"
     },
     "output_type": "display_data"
    }
   ],
   "source": [
    "train.groupby('Type')['Time'].count().plot(kind='bar')"
   ]
  },
  {
   "cell_type": "markdown",
   "metadata": {},
   "source": [
    "# Feature Exploration and Visualization"
   ]
  },
  {
   "cell_type": "code",
   "execution_count": 7,
   "metadata": {},
   "outputs": [
    {
     "data": {
      "text/html": [
       "<div>\n",
       "<style scoped>\n",
       "    .dataframe tbody tr th:only-of-type {\n",
       "        vertical-align: middle;\n",
       "    }\n",
       "\n",
       "    .dataframe tbody tr th {\n",
       "        vertical-align: top;\n",
       "    }\n",
       "\n",
       "    .dataframe thead th {\n",
       "        text-align: right;\n",
       "    }\n",
       "</style>\n",
       "<table border=\"1\" class=\"dataframe\">\n",
       "  <thead>\n",
       "    <tr style=\"text-align: right;\">\n",
       "      <th></th>\n",
       "      <th>0</th>\n",
       "      <th>1</th>\n",
       "      <th>2</th>\n",
       "      <th>3</th>\n",
       "      <th>4</th>\n",
       "      <th>5</th>\n",
       "      <th>6</th>\n",
       "      <th>7</th>\n",
       "      <th>8</th>\n",
       "      <th>9</th>\n",
       "      <th>...</th>\n",
       "      <th>16</th>\n",
       "      <th>17</th>\n",
       "      <th>18</th>\n",
       "      <th>19</th>\n",
       "      <th>20</th>\n",
       "      <th>21</th>\n",
       "      <th>22</th>\n",
       "      <th>23</th>\n",
       "      <th>24</th>\n",
       "      <th>Type</th>\n",
       "    </tr>\n",
       "  </thead>\n",
       "  <tbody>\n",
       "    <tr>\n",
       "      <th>0</th>\n",
       "      <td>-211.288576</td>\n",
       "      <td>-148.644453</td>\n",
       "      <td>-69.298770</td>\n",
       "      <td>16.031697</td>\n",
       "      <td>-29.823269</td>\n",
       "      <td>27.794365</td>\n",
       "      <td>77.038238</td>\n",
       "      <td>38.542117</td>\n",
       "      <td>-166.509872</td>\n",
       "      <td>59.465119</td>\n",
       "      <td>...</td>\n",
       "      <td>-3.191918</td>\n",
       "      <td>-2.130401</td>\n",
       "      <td>4.355989</td>\n",
       "      <td>0.935320</td>\n",
       "      <td>-4.807743</td>\n",
       "      <td>-0.883809</td>\n",
       "      <td>3.539605</td>\n",
       "      <td>3.405627</td>\n",
       "      <td>-0.233899</td>\n",
       "      <td>Sync</td>\n",
       "    </tr>\n",
       "    <tr>\n",
       "      <th>1</th>\n",
       "      <td>-198.750827</td>\n",
       "      <td>-163.748841</td>\n",
       "      <td>-30.391206</td>\n",
       "      <td>0.285118</td>\n",
       "      <td>-31.451868</td>\n",
       "      <td>90.258143</td>\n",
       "      <td>28.710501</td>\n",
       "      <td>29.184681</td>\n",
       "      <td>-334.222634</td>\n",
       "      <td>104.786258</td>\n",
       "      <td>...</td>\n",
       "      <td>1.693622</td>\n",
       "      <td>4.377777</td>\n",
       "      <td>3.097460</td>\n",
       "      <td>1.527530</td>\n",
       "      <td>-5.157349</td>\n",
       "      <td>1.635778</td>\n",
       "      <td>3.300130</td>\n",
       "      <td>3.727220</td>\n",
       "      <td>-0.364576</td>\n",
       "      <td>Sync</td>\n",
       "    </tr>\n",
       "    <tr>\n",
       "      <th>2</th>\n",
       "      <td>31.216888</td>\n",
       "      <td>-128.189204</td>\n",
       "      <td>-26.852756</td>\n",
       "      <td>-33.252938</td>\n",
       "      <td>3.067336</td>\n",
       "      <td>145.940194</td>\n",
       "      <td>-16.243907</td>\n",
       "      <td>89.139467</td>\n",
       "      <td>-404.619459</td>\n",
       "      <td>112.706922</td>\n",
       "      <td>...</td>\n",
       "      <td>4.130495</td>\n",
       "      <td>5.719352</td>\n",
       "      <td>-0.076155</td>\n",
       "      <td>1.376820</td>\n",
       "      <td>-5.137128</td>\n",
       "      <td>-2.457131</td>\n",
       "      <td>3.305331</td>\n",
       "      <td>4.592859</td>\n",
       "      <td>-0.536336</td>\n",
       "      <td>Sync</td>\n",
       "    </tr>\n",
       "    <tr>\n",
       "      <th>3</th>\n",
       "      <td>255.857050</td>\n",
       "      <td>384.639589</td>\n",
       "      <td>-20.757047</td>\n",
       "      <td>-28.659953</td>\n",
       "      <td>-11.496047</td>\n",
       "      <td>111.680186</td>\n",
       "      <td>-61.789149</td>\n",
       "      <td>108.124175</td>\n",
       "      <td>-329.938271</td>\n",
       "      <td>95.246518</td>\n",
       "      <td>...</td>\n",
       "      <td>-4.474427</td>\n",
       "      <td>2.845609</td>\n",
       "      <td>2.353793</td>\n",
       "      <td>0.918217</td>\n",
       "      <td>-3.799063</td>\n",
       "      <td>-6.298352</td>\n",
       "      <td>4.038599</td>\n",
       "      <td>3.674324</td>\n",
       "      <td>-0.555594</td>\n",
       "      <td>Sync</td>\n",
       "    </tr>\n",
       "    <tr>\n",
       "      <th>4</th>\n",
       "      <td>208.308774</td>\n",
       "      <td>238.581028</td>\n",
       "      <td>-60.094169</td>\n",
       "      <td>-50.293135</td>\n",
       "      <td>-29.172073</td>\n",
       "      <td>41.019214</td>\n",
       "      <td>0.708271</td>\n",
       "      <td>82.316715</td>\n",
       "      <td>-139.948684</td>\n",
       "      <td>32.039933</td>\n",
       "      <td>...</td>\n",
       "      <td>-21.454643</td>\n",
       "      <td>0.333657</td>\n",
       "      <td>-1.912386</td>\n",
       "      <td>0.702977</td>\n",
       "      <td>-0.240031</td>\n",
       "      <td>-9.685098</td>\n",
       "      <td>3.757389</td>\n",
       "      <td>1.789032</td>\n",
       "      <td>-0.443284</td>\n",
       "      <td>Sync</td>\n",
       "    </tr>\n",
       "  </tbody>\n",
       "</table>\n",
       "<p>5 rows × 26 columns</p>\n",
       "</div>"
      ],
      "text/plain": [
       "            0           1          2          3          4           5  \\\n",
       "0 -211.288576 -148.644453 -69.298770  16.031697 -29.823269   27.794365   \n",
       "1 -198.750827 -163.748841 -30.391206   0.285118 -31.451868   90.258143   \n",
       "2   31.216888 -128.189204 -26.852756 -33.252938   3.067336  145.940194   \n",
       "3  255.857050  384.639589 -20.757047 -28.659953 -11.496047  111.680186   \n",
       "4  208.308774  238.581028 -60.094169 -50.293135 -29.172073   41.019214   \n",
       "\n",
       "           6           7           8           9  ...         16        17  \\\n",
       "0  77.038238   38.542117 -166.509872   59.465119  ...  -3.191918 -2.130401   \n",
       "1  28.710501   29.184681 -334.222634  104.786258  ...   1.693622  4.377777   \n",
       "2 -16.243907   89.139467 -404.619459  112.706922  ...   4.130495  5.719352   \n",
       "3 -61.789149  108.124175 -329.938271   95.246518  ...  -4.474427  2.845609   \n",
       "4   0.708271   82.316715 -139.948684   32.039933  ... -21.454643  0.333657   \n",
       "\n",
       "         18        19        20        21        22        23        24  Type  \n",
       "0  4.355989  0.935320 -4.807743 -0.883809  3.539605  3.405627 -0.233899  Sync  \n",
       "1  3.097460  1.527530 -5.157349  1.635778  3.300130  3.727220 -0.364576  Sync  \n",
       "2 -0.076155  1.376820 -5.137128 -2.457131  3.305331  4.592859 -0.536336  Sync  \n",
       "3  2.353793  0.918217 -3.799063 -6.298352  4.038599  3.674324 -0.555594  Sync  \n",
       "4 -1.912386  0.702977 -0.240031 -9.685098  3.757389  1.789032 -0.443284  Sync  \n",
       "\n",
       "[5 rows x 26 columns]"
      ]
     },
     "execution_count": 7,
     "metadata": {},
     "output_type": "execute_result"
    }
   ],
   "source": [
    "pca = PCA(n_components=25)\n",
    "principalComponents = pca.fit_transform(x_train)\n",
    "principalDf = pd.DataFrame(data = principalComponents)\n",
    "principalDf.reset_index(drop=True, inplace=True)\n",
    "final = pd.concat([principalDf, y_train.reset_index(drop=True)],axis=1)\n",
    "final.head()"
   ]
  },
  {
   "cell_type": "code",
   "execution_count": 8,
   "metadata": {
    "scrolled": true
   },
   "outputs": [
    {
     "data": {
      "image/png": "[encoded data removed]",
      "text/plain": [
       "<Figure size 288x288 with 1 Axes>"
      ]
     },
     "metadata": {
      "needs_background": "light"
     },
     "output_type": "display_data"
    }
   ],
   "source": [
    "fig = plt.figure(figsize = (4,4))\n",
    "ax = fig.add_subplot(1,1,1) \n",
    "ax.set_xlabel('Principal Component 1', fontsize = 15)\n",
    "ax.set_ylabel('Principal Component 2', fontsize = 15)\n",
    "ax.set_title('2 Component PCA', fontsize = 20)\n",
    "\n",
    "\n",
    "targets = ['Alone', 'Sync', 'Spontan']\n",
    "colors = ['r', 'g', 'b']\n",
    "for target, color in zip(targets,colors):\n",
    "    indicesToKeep = final['Type'] == target\n",
    "    ax.scatter(final.loc[indicesToKeep, 1]\n",
    "               , final.loc[indicesToKeep, 2]\n",
    "               , c = color\n",
    "               , s = 50)\n",
    "ax.legend(targets)\n",
    "ax.grid()"
   ]
  },
  {
   "cell_type": "code",
   "execution_count": 9,
   "metadata": {},
   "outputs": [
    {
     "data": {
      "text/plain": [
       "<matplotlib.axes._subplots.AxesSubplot at 0x7f06f0ef04e0>"
      ]
     },
     "execution_count": 9,
     "metadata": {},
     "output_type": "execute_result"
    },
    {
     "data": {
      "image/png": "[encoded data removed]",
      "text/plain": [
       "<Figure size 576x432 with 3 Axes>"
      ]
     },
     "metadata": {
      "needs_background": "light"
     },
     "output_type": "display_data"
    }
   ],
   "source": [
    "fig = plt.figure(figsize=(8, 6))\n",
    "ax = fig.add_subplot(1,3,1)\n",
    "train.groupby(['Type'])[' Velocity Z', ' Velocity Z r'].mean().plot(kind='bar', title='Velocity z', ax=ax)\n",
    "ax2 = fig.add_subplot(1,3,2)\n",
    "train.groupby(['Type'])[' Velocity Y', ' Velocity Y r'].mean().plot(kind='bar', title= 'Velocity y',ax=ax2)\n",
    "ax3 = fig.add_subplot(1,3,3)\n",
    "train.groupby(['Type'])[' Velocity X', ' Velocity X r'].mean().plot(kind='bar', title= 'Velocity x',ax=ax3)"
   ]
  },
  {
   "cell_type": "code",
   "execution_count": 10,
   "metadata": {},
   "outputs": [
    {
     "data": {
      "image/png": "[encoded data removed]",
      "text/plain": [
       "<Figure size 864x720 with 3 Axes>"
      ]
     },
     "metadata": {
      "needs_background": "light"
     },
     "output_type": "display_data"
    }
   ],
   "source": [
    "df = train.drop('Name',axis=1)\n",
    "fig = plt.figure(figsize=(12, 10))\n",
    "Type = ['Sync', 'Spontan','Alone']\n",
    "count = 1\n",
    "for t in Type:\n",
    "    ax = fig.add_subplot(2, 2, count, projection='3d')\n",
    "    count+=1\n",
    "    ax.title.set_text(t)\n",
    "    plt.gca().legend(('left','right'))\n",
    "    dfS = df[df.Type == t]\n",
    "    ax.scatter(dfS[' Position X'], dfS[' Position Y'], dfS[' Position Z'],s=60, label='left hand')\n",
    "    ax.scatter(dfS[' Position X r'], dfS[' Position Y r'], dfS[' Position Z r' ], color='red',s=60, label='right hand')\n",
    "    plt.legend()\n",
    "    ax.set_xlabel('Position X')\n",
    "    ax.set_ylabel('Position Y')\n",
    "    ax.set_zlabel('Position Z')"
   ]
  },
  {
   "cell_type": "markdown",
   "metadata": {},
   "source": [
    "# Modles and feature selection"
   ]
  },
  {
   "cell_type": "markdown",
   "metadata": {},
   "source": [
    "## Null Classifer"
   ]
  },
  {
   "cell_type": "code",
   "execution_count": 11,
   "metadata": {},
   "outputs": [
    {
     "name": "stdout",
     "output_type": "stream",
     "text": [
      "0.3603238866396761\n",
      "              precision    recall  f1-score   support\n",
      "\n",
      "       Alone       0.32      0.32      0.32       474\n",
      "     Spontan       0.33      0.32      0.33       506\n",
      "        Sync       0.31      0.32      0.32       502\n",
      "\n",
      "   micro avg       0.32      0.32      0.32      1482\n",
      "   macro avg       0.32      0.32      0.32      1482\n",
      "weighted avg       0.32      0.32      0.32      1482\n",
      "\n"
     ]
    }
   ],
   "source": [
    "from sklearn.dummy import DummyClassifier\n",
    "dummy_classifier = DummyClassifier(strategy=\"uniform\")\n",
    "dummy_classifier.fit(x_train, y_train)\n",
    "print(dummy_classifier.score(x_test,y_test))\n",
    "y_pred = dummy_classifier.predict(x_test)\n",
    "print(classification_report(y_test, y_pred))"
   ]
  },
  {
   "cell_type": "code",
   "execution_count": 12,
   "metadata": {},
   "outputs": [
    {
     "name": "stdout",
     "output_type": "stream",
     "text": [
      "0.8110661268556005\n",
      "0.8098768528697244\n"
     ]
    }
   ],
   "source": [
    "knn = KNeighborsClassifier(n_neighbors=5)\n",
    "knn.fit(x_train, y_train)\n",
    "print(knn.score(x_test,y_test))\n",
    "print(f1_score(y_pred=knn.predict(x_test),y_true=y_test,average='weighted'))"
   ]
  },
  {
   "cell_type": "markdown",
   "metadata": {},
   "source": [
    "## Random Forest Classfier"
   ]
  },
  {
   "cell_type": "code",
   "execution_count": 13,
   "metadata": {},
   "outputs": [
    {
     "data": {
      "text/plain": [
       "Text(0, 0.5, 'Score')"
      ]
     },
     "execution_count": 13,
     "metadata": {},
     "output_type": "execute_result"
    },
    {
     "data": {
      "image/png": "[encoded data removed]",
      "text/plain": [
       "<Figure size 432x288 with 1 Axes>"
      ]
     },
     "metadata": {
      "needs_background": "light"
     },
     "output_type": "display_data"
    }
   ],
   "source": [
    "d_range = list(range(1, 35))\n",
    "d_scores = []\n",
    "for d in d_range:\n",
    "    rfc = RandomForestClassifier(n_estimators=d, max_depth=5,random_state=1,n_jobs=-1)\n",
    "    rfc.fit(x_train, y_train)\n",
    "    d_scores.append(rfc.score(x_test,y_test))\n",
    "\n",
    "\n",
    "# plot the value of max_depth for rfc (x-axis) versus the cross-validated accuracy (y-axis)\n",
    "plt.plot(d_range, d_scores)\n",
    "plt.xlabel('Value of n_estimators for rfc')\n",
    "plt.ylabel('Score')"
   ]
  },
  {
   "cell_type": "markdown",
   "metadata": {},
   "source": [
    "## PCA (with rfc)"
   ]
  },
  {
   "cell_type": "code",
   "execution_count": 14,
   "metadata": {},
   "outputs": [
    {
     "data": {
      "text/plain": [
       "Text(0, 0.5, 'Score')"
      ]
     },
     "execution_count": 14,
     "metadata": {},
     "output_type": "execute_result"
    },
    {
     "data": {
      "image/png": "[encoded data removed]",
      "text/plain": [
       "<Figure size 432x288 with 1 Axes>"
      ]
     },
     "metadata": {
      "needs_background": "light"
     },
     "output_type": "display_data"
    }
   ],
   "source": [
    "d_range = list(range(12, 30))\n",
    "d_scores = []\n",
    "for d in d_range:\n",
    "    pca = PCA(n_components=d)\n",
    "    pc = pca.fit_transform(x_train)\n",
    "    pc_t = pca.fit_transform(x_test)\n",
    "    rfc = RandomForestClassifier(n_estimators=100, max_depth=20,random_state=1,n_jobs=-1)\n",
    "    rfc.fit(pc, y_train)\n",
    "    scores = rfc.score(pc_t,y_test)\n",
    "    d_scores.append(scores.mean())\n",
    "plt.plot(d_range, d_scores)\n",
    "plt.xlabel('Value of n PCA components')\n",
    "plt.ylabel('Score')"
   ]
  },
  {
   "cell_type": "markdown",
   "metadata": {},
   "source": [
    "## Logistic Regression"
   ]
  },
  {
   "cell_type": "code",
   "execution_count": 15,
   "metadata": {},
   "outputs": [
    {
     "name": "stdout",
     "output_type": "stream",
     "text": [
      "0.835357624831309\n"
     ]
    }
   ],
   "source": [
    "from sklearn.linear_model import LogisticRegression\n",
    "logreg = LogisticRegression()\n",
    "logreg.fit(x_train, y_train)\n",
    "print(logreg.score(x_test,y_test))"
   ]
  },
  {
   "cell_type": "code",
   "execution_count": 16,
   "metadata": {},
   "outputs": [
    {
     "data": {
      "text/html": [
       "<div>\n",
       "<style scoped>\n",
       "    .dataframe tbody tr th:only-of-type {\n",
       "        vertical-align: middle;\n",
       "    }\n",
       "\n",
       "    .dataframe tbody tr th {\n",
       "        vertical-align: top;\n",
       "    }\n",
       "\n",
       "    .dataframe thead th {\n",
       "        text-align: right;\n",
       "    }\n",
       "</style>\n",
       "<table border=\"1\" class=\"dataframe\">\n",
       "  <thead>\n",
       "    <tr style=\"text-align: right;\">\n",
       "      <th>Predicted</th>\n",
       "      <th>Alone</th>\n",
       "      <th>Spontan</th>\n",
       "      <th>Sync</th>\n",
       "      <th>All</th>\n",
       "    </tr>\n",
       "    <tr>\n",
       "      <th>Actual</th>\n",
       "      <th></th>\n",
       "      <th></th>\n",
       "      <th></th>\n",
       "      <th></th>\n",
       "    </tr>\n",
       "  </thead>\n",
       "  <tbody>\n",
       "    <tr>\n",
       "      <th>Alone</th>\n",
       "      <td>473</td>\n",
       "      <td>0</td>\n",
       "      <td>1</td>\n",
       "      <td>474</td>\n",
       "    </tr>\n",
       "    <tr>\n",
       "      <th>Spontan</th>\n",
       "      <td>1</td>\n",
       "      <td>460</td>\n",
       "      <td>45</td>\n",
       "      <td>506</td>\n",
       "    </tr>\n",
       "    <tr>\n",
       "      <th>Sync</th>\n",
       "      <td>2</td>\n",
       "      <td>195</td>\n",
       "      <td>305</td>\n",
       "      <td>502</td>\n",
       "    </tr>\n",
       "    <tr>\n",
       "      <th>All</th>\n",
       "      <td>476</td>\n",
       "      <td>655</td>\n",
       "      <td>351</td>\n",
       "      <td>1482</td>\n",
       "    </tr>\n",
       "  </tbody>\n",
       "</table>\n",
       "</div>"
      ],
      "text/plain": [
       "Predicted  Alone  Spontan  Sync   All\n",
       "Actual                               \n",
       "Alone        473        0     1   474\n",
       "Spontan        1      460    45   506\n",
       "Sync           2      195   305   502\n",
       "All          476      655   351  1482"
      ]
     },
     "execution_count": 16,
     "metadata": {},
     "output_type": "execute_result"
    }
   ],
   "source": [
    "y_pred = logreg.predict(x_test)\n",
    "metrics.confusion_matrix(y_test, y_pred)\n",
    "df_confusion = pd.crosstab(y_test, y_pred, rownames=['Actual'], colnames=['Predicted'], margins=True)\n",
    "df_confusion"
   ]
  },
  {
   "cell_type": "code",
   "execution_count": 17,
   "metadata": {},
   "outputs": [
    {
     "name": "stdout",
     "output_type": "stream",
     "text": [
      "              precision    recall  f1-score   support\n",
      "\n",
      "       Alone       0.99      1.00      1.00       474\n",
      "     Spontan       0.70      0.91      0.79       506\n",
      "        Sync       0.87      0.61      0.72       502\n",
      "\n",
      "   micro avg       0.84      0.84      0.84      1482\n",
      "   macro avg       0.85      0.84      0.83      1482\n",
      "weighted avg       0.85      0.84      0.83      1482\n",
      "\n"
     ]
    }
   ],
   "source": [
    "print(classification_report(y_test, y_pred))"
   ]
  },
  {
   "cell_type": "code",
   "execution_count": 18,
   "metadata": {},
   "outputs": [
    {
     "name": "stdout",
     "output_type": "stream",
     "text": [
      "0.835357624831309\n"
     ]
    }
   ],
   "source": [
    "lg = LogisticRegression(solver='warn',n_jobs=-1)\n",
    "lg.fit(x_train, y_train)\n",
    "print(lg.score(x_test,y_test))"
   ]
  },
  {
   "cell_type": "code",
   "execution_count": 19,
   "metadata": {
    "scrolled": true
   },
   "outputs": [
    {
     "data": {
      "text/plain": [
       "Text(0, 0.5, 'Accuracy')"
      ]
     },
     "execution_count": 19,
     "metadata": {},
     "output_type": "execute_result"
    },
    {
     "data": {
      "image/png": "[encoded data removed]",
      "text/plain": [
       "<Figure size 432x288 with 1 Axes>"
      ]
     },
     "metadata": {
      "needs_background": "light"
     },
     "output_type": "display_data"
    }
   ],
   "source": [
    "d_range = ['l1', 'l2']\n",
    "d_scores = []\n",
    "for d in d_range:\n",
    "    lg = LogisticRegression(n_jobs=-1, penalty=d)\n",
    "    lg.fit(x_train, y_train)\n",
    "    d_scores.append(lg.score(x_test,y_test))\n",
    "plt.bar(d_range, d_scores)\n",
    "plt.xlabel('Value of penalty')\n",
    "plt.ylabel('Accuracy')"
   ]
  },
  {
   "cell_type": "code",
   "execution_count": 20,
   "metadata": {},
   "outputs": [
    {
     "data": {
      "text/plain": [
       "Text(0, 0.5, 'Score')"
      ]
     },
     "execution_count": 20,
     "metadata": {},
     "output_type": "execute_result"
    },
    {
     "data": {
      "image/png": "[encoded data removed]",
      "text/plain": [
       "<Figure size 432x288 with 1 Axes>"
      ]
     },
     "metadata": {
      "needs_background": "light"
     },
     "output_type": "display_data"
    }
   ],
   "source": [
    "d_range = [0.1,0.5,0.9]\n",
    "d_scores = []\n",
    "for d in d_range:\n",
    "    lg = LogisticRegression(n_jobs=-1, penalty='l1',C=d)\n",
    "    lg.fit(x_train, y_train)\n",
    "    d_scores.append(lg.score(x_test,y_test))\n",
    "drange = ['0.1','0.5','0.9']\n",
    "plt.bar(drange, d_scores)\n",
    "plt.xlabel('Value of C')\n",
    "plt.ylabel('Score')"
   ]
  },
  {
   "cell_type": "markdown",
   "metadata": {},
   "source": [
    "## Navie bayes"
   ]
  },
  {
   "cell_type": "code",
   "execution_count": 21,
   "metadata": {},
   "outputs": [
    {
     "data": {
      "text/plain": [
       "0.8596491228070176"
      ]
     },
     "execution_count": 21,
     "metadata": {},
     "output_type": "execute_result"
    }
   ],
   "source": [
    "from sklearn.naive_bayes import GaussianNB\n",
    "gnb = GaussianNB()\n",
    "gnb.fit(x_train,y_train)\n",
    "gnb.score(x_test,y_test)"
   ]
  },
  {
   "cell_type": "code",
   "execution_count": 22,
   "metadata": {},
   "outputs": [
    {
     "data": {
      "text/html": [
       "<div>\n",
       "<style scoped>\n",
       "    .dataframe tbody tr th:only-of-type {\n",
       "        vertical-align: middle;\n",
       "    }\n",
       "\n",
       "    .dataframe tbody tr th {\n",
       "        vertical-align: top;\n",
       "    }\n",
       "\n",
       "    .dataframe thead th {\n",
       "        text-align: right;\n",
       "    }\n",
       "</style>\n",
       "<table border=\"1\" class=\"dataframe\">\n",
       "  <thead>\n",
       "    <tr style=\"text-align: right;\">\n",
       "      <th>Predicted</th>\n",
       "      <th>Alone</th>\n",
       "      <th>Spontan</th>\n",
       "      <th>Sync</th>\n",
       "      <th>All</th>\n",
       "    </tr>\n",
       "    <tr>\n",
       "      <th>Actual</th>\n",
       "      <th></th>\n",
       "      <th></th>\n",
       "      <th></th>\n",
       "      <th></th>\n",
       "    </tr>\n",
       "  </thead>\n",
       "  <tbody>\n",
       "    <tr>\n",
       "      <th>Alone</th>\n",
       "      <td>469</td>\n",
       "      <td>0</td>\n",
       "      <td>5</td>\n",
       "      <td>474</td>\n",
       "    </tr>\n",
       "    <tr>\n",
       "      <th>Spontan</th>\n",
       "      <td>3</td>\n",
       "      <td>422</td>\n",
       "      <td>81</td>\n",
       "      <td>506</td>\n",
       "    </tr>\n",
       "    <tr>\n",
       "      <th>Sync</th>\n",
       "      <td>8</td>\n",
       "      <td>111</td>\n",
       "      <td>383</td>\n",
       "      <td>502</td>\n",
       "    </tr>\n",
       "    <tr>\n",
       "      <th>All</th>\n",
       "      <td>480</td>\n",
       "      <td>533</td>\n",
       "      <td>469</td>\n",
       "      <td>1482</td>\n",
       "    </tr>\n",
       "  </tbody>\n",
       "</table>\n",
       "</div>"
      ],
      "text/plain": [
       "Predicted  Alone  Spontan  Sync   All\n",
       "Actual                               \n",
       "Alone        469        0     5   474\n",
       "Spontan        3      422    81   506\n",
       "Sync           8      111   383   502\n",
       "All          480      533   469  1482"
      ]
     },
     "execution_count": 22,
     "metadata": {},
     "output_type": "execute_result"
    }
   ],
   "source": [
    "y_pred = gnb.predict(x_test)\n",
    "metrics.confusion_matrix(y_test, y_pred)\n",
    "df_confusion = pd.crosstab(y_test, y_pred, rownames=['Actual'], colnames=['Predicted'], margins=True)\n",
    "df_confusion"
   ]
  },
  {
   "cell_type": "code",
   "execution_count": 23,
   "metadata": {},
   "outputs": [
    {
     "name": "stdout",
     "output_type": "stream",
     "text": [
      "              precision    recall  f1-score   support\n",
      "\n",
      "       Alone       0.98      0.99      0.98       474\n",
      "     Spontan       0.79      0.83      0.81       506\n",
      "        Sync       0.82      0.76      0.79       502\n",
      "\n",
      "   micro avg       0.86      0.86      0.86      1482\n",
      "   macro avg       0.86      0.86      0.86      1482\n",
      "weighted avg       0.86      0.86      0.86      1482\n",
      "\n"
     ]
    }
   ],
   "source": [
    "from sklearn.metrics import classification_report\n",
    "print(classification_report(y_test, y_pred))"
   ]
  },
  {
   "cell_type": "markdown",
   "metadata": {},
   "source": [
    "## Experiment with ratio of columns"
   ]
  },
  {
   "cell_type": "code",
   "execution_count": 24,
   "metadata": {},
   "outputs": [],
   "source": [
    "def recol(x):\n",
    "    t = x.loc[:, ' Position X':' Pinch Strength']\n",
    "    tr = x.loc[:, ' Position X r':' Pinch Strength r']\n",
    "    d = pd.DataFrame(columns=[\n",
    "        ' Position X',\n",
    "        ' Position Y',\n",
    "        ' Position Z',\n",
    "        ' Velocity X',\n",
    "        ' Velocity Y',\n",
    "        ' Velocity Z',\n",
    "        ' Pitch',\n",
    "        ' Roll',\n",
    "        ' Yaw',\n",
    "        ' Wrist Pos X',\n",
    "        ' Wrist Pos Y',\n",
    "        ' Wrist Pos Z',\n",
    "        ' Elbow pos X',\n",
    "        ' Elbow Pos Y',\n",
    "        ' Elbow Pos Z',\n",
    "        ' Grab Strenth',\n",
    "        ' Grab Angle',\n",
    "        ' Pinch Strength',\n",
    "        ])\n",
    "\n",
    "\n",
    "    for col in t.columns.values:\n",
    "        d[col] = abs(t[col] - tr[col + ' r'])\n",
    "    d = d.join(x['Type'])\n",
    "    d.replace([np.inf, -np.inf], np.nan, inplace=True)\n",
    "    d.dropna(inplace=True, axis=0)\n",
    "    d.reset_index(inplace=True, drop=True)\n",
    "    return d\n",
    "\n",
    "trainx_new = recol(train.drop(['Name','Time'], axis = 1))\n",
    "testx_new = recol(test.drop(['Name','Time'], axis = 1))"
   ]
  },
  {
   "cell_type": "code",
   "execution_count": 25,
   "metadata": {},
   "outputs": [
    {
     "name": "stdout",
     "output_type": "stream",
     "text": [
      "0.888663967611336\n",
      "              precision    recall  f1-score   support\n",
      "\n",
      "       Alone       0.98      0.93      0.95       474\n",
      "     Spontan       0.85      0.88      0.86       506\n",
      "        Sync       0.85      0.86      0.86       502\n",
      "\n",
      "   micro avg       0.89      0.89      0.89      1482\n",
      "   macro avg       0.89      0.89      0.89      1482\n",
      "weighted avg       0.89      0.89      0.89      1482\n",
      "\n"
     ]
    }
   ],
   "source": [
    "gnb = LogisticRegression(n_jobs=-1, penalty='l1',C=0.5)#3% increase\n",
    "gnb.fit(trainx_new.drop('Type',axis=1),trainx_new['Type'])\n",
    "print(gnb.score(testx_new.drop('Type',axis=1),testx_new['Type']))\n",
    "y_pred = gnb.predict(testx_new.drop('Type',axis=1))\n",
    "print(classification_report(testx_new['Type'], y_pred))"
   ]
  },
  {
   "cell_type": "markdown",
   "metadata": {},
   "source": [
    "##  Ada Boost with and without recol"
   ]
  },
  {
   "cell_type": "code",
   "execution_count": 26,
   "metadata": {},
   "outputs": [
    {
     "name": "stdout",
     "output_type": "stream",
     "text": [
      "0.8751686909581646\n",
      "              precision    recall  f1-score   support\n",
      "\n",
      "       Alone       1.00      0.93      0.96       474\n",
      "     Spontan       0.82      0.85      0.83       506\n",
      "        Sync       0.83      0.85      0.84       502\n",
      "\n",
      "   micro avg       0.88      0.88      0.88      1482\n",
      "   macro avg       0.88      0.88      0.88      1482\n",
      "weighted avg       0.88      0.88      0.88      1482\n",
      "\n"
     ]
    }
   ],
   "source": [
    "from sklearn.ensemble import AdaBoostClassifier\n",
    "from sklearn.tree import DecisionTreeClassifier\n",
    "clf = AdaBoostClassifier(RandomForestClassifier(n_estimators=10, max_depth=5,random_state=1,n_jobs=-1), n_estimators=45, random_state=0)\n",
    "clf.fit(trainx_new.drop('Type', axis=1), trainx_new['Type'])\n",
    "print(clf.score(testx_new.drop('Type', axis=1), testx_new['Type']))\n",
    "print(classification_report(testx_new['Type'], clf.predict(testx_new.drop('Type', axis=1))))"
   ]
  },
  {
   "cell_type": "code",
   "execution_count": 27,
   "metadata": {
    "scrolled": true
   },
   "outputs": [
    {
     "name": "stdout",
     "output_type": "stream",
     "text": [
      "0.888663967611336\n",
      "              precision    recall  f1-score   support\n",
      "\n",
      "       Alone       1.00      1.00      1.00       474\n",
      "     Spontan       0.80      0.90      0.85       506\n",
      "        Sync       0.89      0.77      0.82       502\n",
      "\n",
      "   micro avg       0.89      0.89      0.89      1482\n",
      "   macro avg       0.89      0.89      0.89      1482\n",
      "weighted avg       0.89      0.89      0.89      1482\n",
      "\n"
     ]
    }
   ],
   "source": [
    "clf = AdaBoostClassifier(RandomForestClassifier(n_estimators=10, max_depth=5,random_state=1,n_jobs=-1), n_estimators=45, random_state=0)\n",
    "clf.fit(x_train, y_train)\n",
    "print(clf.score(x_test, y_test))\n",
    "print(classification_report(y_test, clf.predict(x_test)))"
   ]
  },
  {
   "cell_type": "markdown",
   "metadata": {},
   "source": [
    "## ICA trail"
   ]
  },
  {
   "cell_type": "code",
   "execution_count": 28,
   "metadata": {},
   "outputs": [
    {
     "data": {
      "text/plain": [
       "0.3805668016194332"
      ]
     },
     "execution_count": 28,
     "metadata": {},
     "output_type": "execute_result"
    }
   ],
   "source": [
    "from sklearn.decomposition import FastICA\n",
    "transformer = FastICA(n_components=18)\n",
    "x_t_train = transformer.fit_transform(x_train)\n",
    "x_t_test = transformer.fit_transform(x_test)\n",
    "clf = AdaBoostClassifier(RandomForestClassifier(n_estimators=5, max_depth=5,random_state=1,n_jobs=-1), n_estimators=45, random_state=0)\n",
    "clf.fit(x_t_train, y_train)\n",
    "clf.score(x_t_test, y_test)"
   ]
  },
  {
   "cell_type": "markdown",
   "metadata": {},
   "source": [
    "## clustering the data"
   ]
  },
  {
   "cell_type": "code",
   "execution_count": 29,
   "metadata": {},
   "outputs": [],
   "source": [
    "from sklearn.cluster import KMeans\n",
    "\n",
    "km = KMeans(n_clusters=3).fit(x_train)\n",
    "cluster_map = pd.DataFrame()\n",
    "cluster_map['data_index'] = x_train.index.values\n",
    "cluster_map['cluster'] = km.labels_"
   ]
  },
  {
   "cell_type": "code",
   "execution_count": 32,
   "metadata": {},
   "outputs": [
    {
     "data": {
      "text/html": [
       "<div>\n",
       "<style scoped>\n",
       "    .dataframe tbody tr th:only-of-type {\n",
       "        vertical-align: middle;\n",
       "    }\n",
       "\n",
       "    .dataframe tbody tr th {\n",
       "        vertical-align: top;\n",
       "    }\n",
       "\n",
       "    .dataframe thead th {\n",
       "        text-align: right;\n",
       "    }\n",
       "</style>\n",
       "<table border=\"1\" class=\"dataframe\">\n",
       "  <thead>\n",
       "    <tr style=\"text-align: right;\">\n",
       "      <th></th>\n",
       "      <th>data_index</th>\n",
       "      <th>cluster</th>\n",
       "    </tr>\n",
       "  </thead>\n",
       "  <tbody>\n",
       "    <tr>\n",
       "      <th>0</th>\n",
       "      <td>0</td>\n",
       "      <td>0</td>\n",
       "    </tr>\n",
       "    <tr>\n",
       "      <th>1</th>\n",
       "      <td>1</td>\n",
       "      <td>0</td>\n",
       "    </tr>\n",
       "    <tr>\n",
       "      <th>2</th>\n",
       "      <td>2</td>\n",
       "      <td>2</td>\n",
       "    </tr>\n",
       "    <tr>\n",
       "      <th>3</th>\n",
       "      <td>3</td>\n",
       "      <td>2</td>\n",
       "    </tr>\n",
       "    <tr>\n",
       "      <th>4</th>\n",
       "      <td>4</td>\n",
       "      <td>2</td>\n",
       "    </tr>\n",
       "    <tr>\n",
       "      <th>5</th>\n",
       "      <td>5</td>\n",
       "      <td>2</td>\n",
       "    </tr>\n",
       "    <tr>\n",
       "      <th>6</th>\n",
       "      <td>6</td>\n",
       "      <td>0</td>\n",
       "    </tr>\n",
       "    <tr>\n",
       "      <th>7</th>\n",
       "      <td>7</td>\n",
       "      <td>2</td>\n",
       "    </tr>\n",
       "    <tr>\n",
       "      <th>8</th>\n",
       "      <td>8</td>\n",
       "      <td>2</td>\n",
       "    </tr>\n",
       "    <tr>\n",
       "      <th>9</th>\n",
       "      <td>9</td>\n",
       "      <td>2</td>\n",
       "    </tr>\n",
       "    <tr>\n",
       "      <th>10</th>\n",
       "      <td>10</td>\n",
       "      <td>2</td>\n",
       "    </tr>\n",
       "    <tr>\n",
       "      <th>11</th>\n",
       "      <td>11</td>\n",
       "      <td>0</td>\n",
       "    </tr>\n",
       "    <tr>\n",
       "      <th>12</th>\n",
       "      <td>12</td>\n",
       "      <td>0</td>\n",
       "    </tr>\n",
       "    <tr>\n",
       "      <th>13</th>\n",
       "      <td>13</td>\n",
       "      <td>0</td>\n",
       "    </tr>\n",
       "    <tr>\n",
       "      <th>14</th>\n",
       "      <td>14</td>\n",
       "      <td>2</td>\n",
       "    </tr>\n",
       "    <tr>\n",
       "      <th>15</th>\n",
       "      <td>15</td>\n",
       "      <td>2</td>\n",
       "    </tr>\n",
       "    <tr>\n",
       "      <th>16</th>\n",
       "      <td>16</td>\n",
       "      <td>2</td>\n",
       "    </tr>\n",
       "    <tr>\n",
       "      <th>17</th>\n",
       "      <td>17</td>\n",
       "      <td>2</td>\n",
       "    </tr>\n",
       "    <tr>\n",
       "      <th>18</th>\n",
       "      <td>18</td>\n",
       "      <td>2</td>\n",
       "    </tr>\n",
       "    <tr>\n",
       "      <th>19</th>\n",
       "      <td>19</td>\n",
       "      <td>0</td>\n",
       "    </tr>\n",
       "    <tr>\n",
       "      <th>20</th>\n",
       "      <td>20</td>\n",
       "      <td>0</td>\n",
       "    </tr>\n",
       "    <tr>\n",
       "      <th>21</th>\n",
       "      <td>21</td>\n",
       "      <td>2</td>\n",
       "    </tr>\n",
       "    <tr>\n",
       "      <th>22</th>\n",
       "      <td>22</td>\n",
       "      <td>2</td>\n",
       "    </tr>\n",
       "    <tr>\n",
       "      <th>23</th>\n",
       "      <td>23</td>\n",
       "      <td>2</td>\n",
       "    </tr>\n",
       "    <tr>\n",
       "      <th>24</th>\n",
       "      <td>24</td>\n",
       "      <td>0</td>\n",
       "    </tr>\n",
       "    <tr>\n",
       "      <th>25</th>\n",
       "      <td>25</td>\n",
       "      <td>0</td>\n",
       "    </tr>\n",
       "    <tr>\n",
       "      <th>26</th>\n",
       "      <td>26</td>\n",
       "      <td>2</td>\n",
       "    </tr>\n",
       "    <tr>\n",
       "      <th>27</th>\n",
       "      <td>27</td>\n",
       "      <td>2</td>\n",
       "    </tr>\n",
       "    <tr>\n",
       "      <th>28</th>\n",
       "      <td>28</td>\n",
       "      <td>2</td>\n",
       "    </tr>\n",
       "    <tr>\n",
       "      <th>29</th>\n",
       "      <td>29</td>\n",
       "      <td>0</td>\n",
       "    </tr>\n",
       "    <tr>\n",
       "      <th>...</th>\n",
       "      <td>...</td>\n",
       "      <td>...</td>\n",
       "    </tr>\n",
       "    <tr>\n",
       "      <th>5010</th>\n",
       "      <td>5010</td>\n",
       "      <td>1</td>\n",
       "    </tr>\n",
       "    <tr>\n",
       "      <th>5011</th>\n",
       "      <td>5011</td>\n",
       "      <td>1</td>\n",
       "    </tr>\n",
       "    <tr>\n",
       "      <th>5012</th>\n",
       "      <td>5012</td>\n",
       "      <td>1</td>\n",
       "    </tr>\n",
       "    <tr>\n",
       "      <th>5013</th>\n",
       "      <td>5013</td>\n",
       "      <td>0</td>\n",
       "    </tr>\n",
       "    <tr>\n",
       "      <th>5014</th>\n",
       "      <td>5014</td>\n",
       "      <td>2</td>\n",
       "    </tr>\n",
       "    <tr>\n",
       "      <th>5015</th>\n",
       "      <td>5015</td>\n",
       "      <td>2</td>\n",
       "    </tr>\n",
       "    <tr>\n",
       "      <th>5016</th>\n",
       "      <td>5016</td>\n",
       "      <td>2</td>\n",
       "    </tr>\n",
       "    <tr>\n",
       "      <th>5017</th>\n",
       "      <td>5017</td>\n",
       "      <td>2</td>\n",
       "    </tr>\n",
       "    <tr>\n",
       "      <th>5018</th>\n",
       "      <td>5018</td>\n",
       "      <td>0</td>\n",
       "    </tr>\n",
       "    <tr>\n",
       "      <th>5019</th>\n",
       "      <td>5019</td>\n",
       "      <td>0</td>\n",
       "    </tr>\n",
       "    <tr>\n",
       "      <th>5020</th>\n",
       "      <td>5020</td>\n",
       "      <td>2</td>\n",
       "    </tr>\n",
       "    <tr>\n",
       "      <th>5021</th>\n",
       "      <td>5021</td>\n",
       "      <td>1</td>\n",
       "    </tr>\n",
       "    <tr>\n",
       "      <th>5022</th>\n",
       "      <td>5022</td>\n",
       "      <td>0</td>\n",
       "    </tr>\n",
       "    <tr>\n",
       "      <th>5023</th>\n",
       "      <td>5023</td>\n",
       "      <td>2</td>\n",
       "    </tr>\n",
       "    <tr>\n",
       "      <th>5024</th>\n",
       "      <td>5024</td>\n",
       "      <td>2</td>\n",
       "    </tr>\n",
       "    <tr>\n",
       "      <th>5025</th>\n",
       "      <td>5025</td>\n",
       "      <td>0</td>\n",
       "    </tr>\n",
       "    <tr>\n",
       "      <th>5026</th>\n",
       "      <td>5026</td>\n",
       "      <td>2</td>\n",
       "    </tr>\n",
       "    <tr>\n",
       "      <th>5027</th>\n",
       "      <td>5027</td>\n",
       "      <td>2</td>\n",
       "    </tr>\n",
       "    <tr>\n",
       "      <th>5028</th>\n",
       "      <td>5028</td>\n",
       "      <td>0</td>\n",
       "    </tr>\n",
       "    <tr>\n",
       "      <th>5029</th>\n",
       "      <td>5029</td>\n",
       "      <td>1</td>\n",
       "    </tr>\n",
       "    <tr>\n",
       "      <th>5030</th>\n",
       "      <td>5030</td>\n",
       "      <td>0</td>\n",
       "    </tr>\n",
       "    <tr>\n",
       "      <th>5031</th>\n",
       "      <td>5031</td>\n",
       "      <td>2</td>\n",
       "    </tr>\n",
       "    <tr>\n",
       "      <th>5032</th>\n",
       "      <td>5032</td>\n",
       "      <td>0</td>\n",
       "    </tr>\n",
       "    <tr>\n",
       "      <th>5033</th>\n",
       "      <td>5033</td>\n",
       "      <td>1</td>\n",
       "    </tr>\n",
       "    <tr>\n",
       "      <th>5034</th>\n",
       "      <td>5034</td>\n",
       "      <td>0</td>\n",
       "    </tr>\n",
       "    <tr>\n",
       "      <th>5035</th>\n",
       "      <td>5035</td>\n",
       "      <td>1</td>\n",
       "    </tr>\n",
       "    <tr>\n",
       "      <th>5036</th>\n",
       "      <td>5036</td>\n",
       "      <td>0</td>\n",
       "    </tr>\n",
       "    <tr>\n",
       "      <th>5037</th>\n",
       "      <td>5037</td>\n",
       "      <td>1</td>\n",
       "    </tr>\n",
       "    <tr>\n",
       "      <th>5038</th>\n",
       "      <td>5038</td>\n",
       "      <td>1</td>\n",
       "    </tr>\n",
       "    <tr>\n",
       "      <th>5039</th>\n",
       "      <td>5039</td>\n",
       "      <td>0</td>\n",
       "    </tr>\n",
       "  </tbody>\n",
       "</table>\n",
       "<p>5040 rows × 2 columns</p>\n",
       "</div>"
      ],
      "text/plain": [
       "      data_index  cluster\n",
       "0              0        0\n",
       "1              1        0\n",
       "2              2        2\n",
       "3              3        2\n",
       "4              4        2\n",
       "5              5        2\n",
       "6              6        0\n",
       "7              7        2\n",
       "8              8        2\n",
       "9              9        2\n",
       "10            10        2\n",
       "11            11        0\n",
       "12            12        0\n",
       "13            13        0\n",
       "14            14        2\n",
       "15            15        2\n",
       "16            16        2\n",
       "17            17        2\n",
       "18            18        2\n",
       "19            19        0\n",
       "20            20        0\n",
       "21            21        2\n",
       "22            22        2\n",
       "23            23        2\n",
       "24            24        0\n",
       "25            25        0\n",
       "26            26        2\n",
       "27            27        2\n",
       "28            28        2\n",
       "29            29        0\n",
       "...          ...      ...\n",
       "5010        5010        1\n",
       "5011        5011        1\n",
       "5012        5012        1\n",
       "5013        5013        0\n",
       "5014        5014        2\n",
       "5015        5015        2\n",
       "5016        5016        2\n",
       "5017        5017        2\n",
       "5018        5018        0\n",
       "5019        5019        0\n",
       "5020        5020        2\n",
       "5021        5021        1\n",
       "5022        5022        0\n",
       "5023        5023        2\n",
       "5024        5024        2\n",
       "5025        5025        0\n",
       "5026        5026        2\n",
       "5027        5027        2\n",
       "5028        5028        0\n",
       "5029        5029        1\n",
       "5030        5030        0\n",
       "5031        5031        2\n",
       "5032        5032        0\n",
       "5033        5033        1\n",
       "5034        5034        0\n",
       "5035        5035        1\n",
       "5036        5036        0\n",
       "5037        5037        1\n",
       "5038        5038        1\n",
       "5039        5039        0\n",
       "\n",
       "[5040 rows x 2 columns]"
      ]
     },
     "execution_count": 32,
     "metadata": {},
     "output_type": "execute_result"
    }
   ],
   "source": [
    "cluster_map"
   ]
  },
  {
   "cell_type": "code",
   "execution_count": 31,
   "metadata": {},
   "outputs": [
    {
     "data": {
      "text/plain": [
       "0        Sync\n",
       "1        Sync\n",
       "2        Sync\n",
       "3        Sync\n",
       "4        Sync\n",
       "5        Sync\n",
       "6        Sync\n",
       "7        Sync\n",
       "8        Sync\n",
       "9        Sync\n",
       "10       Sync\n",
       "11       Sync\n",
       "12       Sync\n",
       "13       Sync\n",
       "14       Sync\n",
       "15       Sync\n",
       "16       Sync\n",
       "17       Sync\n",
       "18       Sync\n",
       "19       Sync\n",
       "20       Sync\n",
       "21       Sync\n",
       "22       Sync\n",
       "23       Sync\n",
       "24       Sync\n",
       "25       Sync\n",
       "26       Sync\n",
       "27       Sync\n",
       "28       Sync\n",
       "29       Sync\n",
       "        ...  \n",
       "5010    Alone\n",
       "5011    Alone\n",
       "5012    Alone\n",
       "5013    Alone\n",
       "5014    Alone\n",
       "5015    Alone\n",
       "5016    Alone\n",
       "5017    Alone\n",
       "5018    Alone\n",
       "5019    Alone\n",
       "5020    Alone\n",
       "5021    Alone\n",
       "5022    Alone\n",
       "5023    Alone\n",
       "5024    Alone\n",
       "5025    Alone\n",
       "5026    Alone\n",
       "5027    Alone\n",
       "5028    Alone\n",
       "5029    Alone\n",
       "5030    Alone\n",
       "5031    Alone\n",
       "5032    Alone\n",
       "5033    Alone\n",
       "5034    Alone\n",
       "5035    Alone\n",
       "5036    Alone\n",
       "5037    Alone\n",
       "5038    Alone\n",
       "5039    Alone\n",
       "Name: Type, Length: 5040, dtype: object"
      ]
     },
     "execution_count": 31,
     "metadata": {},
     "output_type": "execute_result"
    }
   ],
   "source": [
    "y_train"
   ]
  }
 ],
 "metadata": {
  "kernelspec": {
   "display_name": "Python 3",
   "language": "python",
   "name": "python3"
  },
  "language_info": {
   "codemirror_mode": {
    "name": "ipython",
    "version": 3
   },
   "file_extension": ".py",
   "mimetype": "text/x-python",
   "name": "python",
   "nbconvert_exporter": "python",
   "pygments_lexer": "ipython3",
   "version": "3.7.3"
  }
 },
 "nbformat": 4,
 "nbformat_minor": 2
}
